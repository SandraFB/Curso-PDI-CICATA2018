{
 "cells": [
  {
   "cell_type": "markdown",
   "metadata": {},
   "source": [
    "# BINARIZACIÓN DE IMAGEN\n",
    "En esta práctica se aprenderá a umbralizar imágenes en escala de grises para obtener iamgenes en blanco y negro. \n",
    "http://acodigo.blogspot.com/2017/07/umbralizacion-en-opencv.html"
   ]
  },
  {
   "cell_type": "code",
   "execution_count": 2,
   "metadata": {},
   "outputs": [],
   "source": [
    "import numpy as np\n",
    "import cv2"
   ]
  },
  {
   "cell_type": "markdown",
   "metadata": {},
   "source": [
    "<img src='90.png' alt='90' width='600'/>\n",
    "\n",
    "<img src='91.png' alt='91' width='600'/>\n",
    "\n",
    "<img src='92.png' alt='92' width='600'/>"
   ]
  },
  {
   "cell_type": "code",
   "execution_count": 3,
   "metadata": {},
   "outputs": [
    {
     "data": {
      "text/plain": [
       "13"
      ]
     },
     "execution_count": 3,
     "metadata": {},
     "output_type": "execute_result"
    }
   ],
   "source": [
    "gray = cv2.imread('flor.jpg', cv2.IMREAD_GRAYSCALE)\n",
    "t, dst = cv2.threshold(gray, 170, 255, cv2.THRESH_BINARY)\n",
    "\n",
    "cv2.imshow('umbral', gray)\n",
    "cv2.imshow('result', dst)\n",
    "cv2.waitKey(0)\n"
   ]
  }
 ],
 "metadata": {
  "kernelspec": {
   "display_name": "Python 2",
   "language": "python",
   "name": "python2"
  },
  "language_info": {
   "codemirror_mode": {
    "name": "ipython",
    "version": 2
   },
   "file_extension": ".py",
   "mimetype": "text/x-python",
   "name": "python",
   "nbconvert_exporter": "python",
   "pygments_lexer": "ipython2",
   "version": "2.7.15"
  }
 },
 "nbformat": 4,
 "nbformat_minor": 2
}
