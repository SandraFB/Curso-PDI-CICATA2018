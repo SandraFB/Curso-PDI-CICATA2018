{
 "cells": [
  {
   "cell_type": "markdown",
   "metadata": {},
   "source": [
    "# LECTURA DIGITAL DE IMÁGENES\n",
    "En esta práctica se aprenderá a leer, mostrar y guardar imágenes digitales. \n",
    "Las imágenes se desplegarán en diferentes modelos de color:  RGB, HSV y Escala de Grises. "
   ]
  },
  {
   "cell_type": "markdown",
   "metadata": {},
   "source": [
    "NumPy es el paquete fundamental de cálculo cietífico con Python. Contiene:\n",
    "\n",
    "Objetos arreglos poderosos n-dimensionales \n",
    "Herramientas para integrar código C/C++ y Fortran \n",
    "Algebra lineal, transformadas de Fourier transform, y números aleatorios \n",
    "\n",
    "NumPy is licensed under the BSD license, enabling reuse with few restrictions."
   ]
  },
  {
   "cell_type": "code",
   "execution_count": 1,
   "metadata": {},
   "outputs": [],
   "source": [
    "import numpy as np"
   ]
  },
  {
   "cell_type": "markdown",
   "metadata": {},
   "source": [
    "Para comenzar a trabajar con OpenCV en Python es necesario importar la libreria. El espacio de trabajo de OpenCV es cv o cv2."
   ]
  },
  {
   "cell_type": "code",
   "execution_count": 2,
   "metadata": {},
   "outputs": [],
   "source": [
    "import cv2"
   ]
  },
  {
   "cell_type": "markdown",
   "metadata": {},
   "source": [
    "La función para leer una imagen es cv2.imread(), la cual se debe almacenar en una variable. La imagen debe estar contenida en el directorio de trabajo o se debe incluir la ruta completa a ésta en el primer argumento de la función. El segundo argumento de la función es una bandera que especifíca el espacio de color de la imagen a leer.\n",
    "1 imagen a color sin transparencias\n",
    "0 imagen a escala de grises\n",
    "-1 imagen original"
   ]
  },
  {
   "cell_type": "code",
   "execution_count": 3,
   "metadata": {},
   "outputs": [],
   "source": [
    "img_original = cv2.imread('imagen1.jpg',-1)"
   ]
  },
  {
   "cell_type": "code",
   "execution_count": 4,
   "metadata": {},
   "outputs": [],
   "source": [
    "img_gris = cv2.imread('imagen1.jpg',0)"
   ]
  },
  {
   "cell_type": "code",
   "execution_count": 5,
   "metadata": {},
   "outputs": [],
   "source": [
    "img_color = cv2.imread('imagen1.jpg',1)"
   ]
  },
  {
   "cell_type": "markdown",
   "metadata": {},
   "source": [
    "La imagen se desplegará en una ventana con la función cv2.imshow(). La ventana se ajusta automáticamente al tamaño de la imagen. \n",
    "\n",
    "El primer argumento es el nombre de la ventana. El segundo argumente es la variable donde se almacenó la imagen a desplegar. "
   ]
  },
  {
   "cell_type": "code",
   "execution_count": 6,
   "metadata": {},
   "outputs": [],
   "source": [
    "cv2.imshow('Original',img_original)\n"
   ]
  },
  {
   "cell_type": "code",
   "execution_count": 7,
   "metadata": {},
   "outputs": [],
   "source": [
    "cv2.imshow('Gris',img_gris)\n"
   ]
  },
  {
   "cell_type": "code",
   "execution_count": 8,
   "metadata": {},
   "outputs": [],
   "source": [
    "cv2.imshow('Color',img_color)\n"
   ]
  },
  {
   "cell_type": "markdown",
   "metadata": {},
   "source": [
    "Para guardar una imagen se utiliza la función cv2.imwrite(). Esta función recibe dos argumentos, el primer argumento es el nombre que se le asignará a la nueva imagen, el segundo parámetro es la variable donde se encuentra la imagen a almacenar. "
   ]
  },
  {
   "cell_type": "code",
   "execution_count": 9,
   "metadata": {},
   "outputs": [
    {
     "data": {
      "text/plain": [
       "True"
      ]
     },
     "execution_count": 9,
     "metadata": {},
     "output_type": "execute_result"
    }
   ],
   "source": [
    "cv2.imwrite('gris.png',img_gris)"
   ]
  },
  {
   "cell_type": "markdown",
   "metadata": {},
   "source": [
    "cv2.waitKey(): La función permitirá que las ventanas permanezcan abiertas, si no se le indica argumento permaneceran abiertas indefinidamente.  "
   ]
  },
  {
   "cell_type": "code",
   "execution_count": null,
   "metadata": {},
   "outputs": [],
   "source": [
    "cv2.waitKey()"
   ]
  },
  {
   "cell_type": "markdown",
   "metadata": {},
   "source": [
    "cv2.destroyAllWindows() simplemente detruye las ventanas creadas. Se pueden especificar las ventanas a eliminar indicando el nombre en el argumento con cv2.destroyWindow()"
   ]
  },
  {
   "cell_type": "code",
   "execution_count": null,
   "metadata": {},
   "outputs": [],
   "source": [
    "cv2.destroyAllWindows()"
   ]
  },
  {
   "cell_type": "code",
   "execution_count": null,
   "metadata": {},
   "outputs": [],
   "source": [
    "\n"
   ]
  }
 ],
 "metadata": {
  "kernelspec": {
   "display_name": "Python 2",
   "language": "python",
   "name": "python2"
  },
  "language_info": {
   "codemirror_mode": {
    "name": "ipython",
    "version": 2
   },
   "file_extension": ".py",
   "mimetype": "text/x-python",
   "name": "python",
   "nbconvert_exporter": "python",
   "pygments_lexer": "ipython2",
   "version": "2.7.15"
  }
 },
 "nbformat": 4,
 "nbformat_minor": 2
}
