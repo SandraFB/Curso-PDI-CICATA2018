{
 "cells": [
  {
   "cell_type": "markdown",
   "metadata": {},
   "source": [
    "# SEGMENTACIÓN POR ESPACIOS DE COLOR\n",
    "https://opencv-python-tutroals.readthedocs.io/en/latest/py_tutorials/py_imgproc/py_colorspaces/py_colorspaces.html"
   ]
  },
  {
   "cell_type": "code",
   "execution_count": 1,
   "metadata": {},
   "outputs": [],
   "source": [
    "import cv2\n",
    "import numpy as np\n",
    "frame = cv2.imread('imagen1.jpg',1)\n"
   ]
  },
  {
   "cell_type": "markdown",
   "metadata": {},
   "source": [
    "# Modelo de color HSV\n",
    "El modelo HSV (del inglés Hue, Saturation, Value – Matiz, Saturación, Valor), también llamado HSB (Hue, Saturation, Brightness – Matiz, Saturación, Brillo), define un modelo de color en términos de sus componentes.\n",
    "\n",
    "<img src='hsv.png' alt='hsv' width='300'/>\n"
   ]
  },
  {
   "cell_type": "code",
   "execution_count": 2,
   "metadata": {},
   "outputs": [],
   "source": [
    "hsv = cv2.cvtColor(frame, cv2.COLOR_BGR2HSV)\n",
    "# define range of blue color in HSV\n",
    "#lower_blue = np.array([110,50,50])\n",
    "#upper_blue = np.array([130,255,255])\n",
    "\n",
    "# define range of blue color in HSV\n",
    "lower_green = np.array([50,50,50])\n",
    "upper_green = np.array([100,255,255])"
   ]
  },
  {
   "cell_type": "markdown",
   "metadata": {},
   "source": [
    "De forma intuitiva se puede realizar la siguiente transformación para conocer los valores básicos RGB:\n",
    "\n",
    "Disponemos de 360 grados dónde se dividen los 3 colores RGB, eso da un total de 120º por color, sabiendo esto podemos recordar que el 0 es rojo RGB(1, 0, 0), 120 es verde RGB(0, 1, 0) y 240 es azul RGB(0, 0, 1). Para colores mixtos se utilizan los grados intermedios, el amarillo, RGB(1, 1, 0) está entre rojo y verde, por lo tanto 60º. Se puede observar como se sigue la secuencia de sumar 60 grados y añadir un 1 o quitar el anterior:\n",
    "\n",
    "<img src='hsv1.png' alt='hsv1' width='300'/>\n",
    "\n",
    "Cono del modelo HSV.\n",
    "0º = RGB(1, 0, 0)\n",
    "60º = RGB(1, 1, 0)\n",
    "120º = RGB(0, 1, 0)\n",
    "180º = RGB(0, 1, 1)\n",
    "240º = RGB(0, 0, 1)\n",
    "300º = RGB(1, 0, 1)\n",
    "360º = 0º\n",
    "\n",
    "Obten el código de color HSV en línea:\n",
    "https://imagecolorpicker.com/es\n"
   ]
  },
  {
   "cell_type": "code",
   "execution_count": null,
   "metadata": {},
   "outputs": [],
   "source": [
    "# Threshold the HSV image to get only blue colors\n",
    "#mask = cv2.inRange(hsv, lower_blue, upper_blue)\n",
    "\n",
    "# Threshold the HSV image to get only green colors\n",
    "mask = cv2.inRange(hsv, lower_green, upper_green)\n",
    "\n",
    "# Bitwise-AND mask and original image\n",
    "res = cv2.bitwise_and(frame,frame, mask= mask)\n",
    "\n",
    "cv2.imshow('frame',frame)\n",
    "cv2.imshow('mask',mask)\n",
    "cv2.imshow('res',res)\n",
    "cv2.waitKey() \n",
    "cv2.destroyAllWindows()"
   ]
  },
  {
   "cell_type": "code",
   "execution_count": null,
   "metadata": {},
   "outputs": [],
   "source": []
  }
 ],
 "metadata": {
  "kernelspec": {
   "display_name": "Python 2",
   "language": "python",
   "name": "python2"
  },
  "language_info": {
   "codemirror_mode": {
    "name": "ipython",
    "version": 2
   },
   "file_extension": ".py",
   "mimetype": "text/x-python",
   "name": "python",
   "nbconvert_exporter": "python",
   "pygments_lexer": "ipython2",
   "version": "2.7.15"
  }
 },
 "nbformat": 4,
 "nbformat_minor": 2
}
