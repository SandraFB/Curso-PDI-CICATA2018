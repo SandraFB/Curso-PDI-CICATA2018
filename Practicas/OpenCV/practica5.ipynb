{
 "cells": [
  {
   "cell_type": "markdown",
   "metadata": {},
   "source": [
    "# OPERADORES MORFOLÓGICOS\n",
    "En esta práctica se aprenderá a aplicar operadores morfológicos coomo erosión y dilatación con el objetivo de obtener objetos segmentados. \n",
    "https://www.aprenderpython.net/transformaciones-morfologicas/"
   ]
  },
  {
   "cell_type": "markdown",
   "metadata": {},
   "source": [
    "Es una técnica de procesamiento no lineal de la señal, caracterizada en realzar la geometría y forma de los objetos. Su fundamento matemático se basa en la teoría de conjunto. \n",
    "\n",
    "Actualmente se puede encontrar aplicaciones en la restauración de imágenes, en la detección de bordes, en el análisis de texturas, en el aumento del contraste y hasta en la compresión de imágenes."
   ]
  },
  {
   "cell_type": "code",
   "execution_count": 2,
   "metadata": {},
   "outputs": [],
   "source": [
    "import cv2\n",
    "import numpy as np"
   ]
  },
  {
   "cell_type": "code",
   "execution_count": 3,
   "metadata": {},
   "outputs": [],
   "source": [
    "img = cv2.imread('lena.jpg',0)\n",
    "kernel = np.ones((7,7),np.uint8)"
   ]
  },
  {
   "cell_type": "code",
   "execution_count": 4,
   "metadata": {},
   "outputs": [],
   "source": [
    "erosion = cv2.erode(img,kernel,iterations = 1)"
   ]
  },
  {
   "cell_type": "code",
   "execution_count": 5,
   "metadata": {},
   "outputs": [],
   "source": [
    "dilatacion = cv2.dilate(img,kernel,iterations = 1)"
   ]
  },
  {
   "cell_type": "code",
   "execution_count": 6,
   "metadata": {},
   "outputs": [],
   "source": [
    "apertura = cv2.morphologyEx(img, cv2.MORPH_OPEN, kernel)"
   ]
  },
  {
   "cell_type": "code",
   "execution_count": 7,
   "metadata": {},
   "outputs": [],
   "source": [
    "cierre = cv2.morphologyEx(img, cv2.MORPH_CLOSE, kernel)"
   ]
  },
  {
   "cell_type": "code",
   "execution_count": 8,
   "metadata": {},
   "outputs": [],
   "source": [
    "gradiente = cv2.morphologyEx(img, cv2.MORPH_GRADIENT, kernel)"
   ]
  },
  {
   "cell_type": "code",
   "execution_count": 7,
   "metadata": {},
   "outputs": [
    {
     "data": {
      "text/plain": [
       "13"
      ]
     },
     "execution_count": 7,
     "metadata": {},
     "output_type": "execute_result"
    }
   ],
   "source": [
    "cv2.imshow('original', img)\n",
    "cv2.imshow('dilatacion', dilatacion)\n",
    "cv2.imshow('apertura', apertura)\n",
    "cv2.imshow('cierre', cierre)\n",
    "cv2.imshow('gradiente', gradiente)\n",
    "cv2.waitKey(0)"
   ]
  },
  {
   "cell_type": "code",
   "execution_count": null,
   "metadata": {},
   "outputs": [],
   "source": []
  },
  {
   "cell_type": "code",
   "execution_count": 9,
   "metadata": {},
   "outputs": [],
   "source": [
    "t, dst = cv2.threshold(img, 170, 255, cv2.THRESH_BINARY)\n",
    "\n",
    "erosion = cv2.erode(dst,kernel,iterations = 1)\n",
    "dilatacion = cv2.dilate(dst,kernel,iterations = 1)\n",
    "apertura = cv2.morphologyEx(dst, cv2.MORPH_OPEN, kernel)\n",
    "cierre = cv2.morphologyEx(dst, cv2.MORPH_CLOSE, kernel)\n",
    "gradiente = cv2.morphologyEx(dst, cv2.MORPH_GRADIENT, kernel)"
   ]
  },
  {
   "cell_type": "code",
   "execution_count": 10,
   "metadata": {},
   "outputs": [
    {
     "data": {
      "text/plain": [
       "13"
      ]
     },
     "execution_count": 10,
     "metadata": {},
     "output_type": "execute_result"
    }
   ],
   "source": [
    "cv2.imshow('Imagen binarizada', dst)\n",
    "cv2.imshow('dilatacion', dilatacion)\n",
    "cv2.imshow('apertura', apertura)\n",
    "cv2.imshow('cierre', cierre)\n",
    "cv2.imshow('gradiente', gradiente)\n",
    "cv2.waitKey(0)"
   ]
  },
  {
   "cell_type": "code",
   "execution_count": null,
   "metadata": {},
   "outputs": [],
   "source": []
  }
 ],
 "metadata": {
  "kernelspec": {
   "display_name": "Python 2",
   "language": "python",
   "name": "python2"
  },
  "language_info": {
   "codemirror_mode": {
    "name": "ipython",
    "version": 2
   },
   "file_extension": ".py",
   "mimetype": "text/x-python",
   "name": "python",
   "nbconvert_exporter": "python",
   "pygments_lexer": "ipython2",
   "version": "2.7.15"
  }
 },
 "nbformat": 4,
 "nbformat_minor": 2
}
